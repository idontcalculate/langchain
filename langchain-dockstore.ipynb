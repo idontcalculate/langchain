{
 "cells": [
  {
   "cell_type": "code",
   "execution_count": null,
   "metadata": {},
   "outputs": [],
   "source": [
    "!pip install langchain openai wikipedia"
   ]
  },
  {
   "cell_type": "code",
   "execution_count": 50,
   "metadata": {},
   "outputs": [],
   "source": [
    "from langchain.docstore.wikipedia import Wikipedia\n",
    "from langchain.agents.react.base import DocstoreExplorer\n",
    "from langchain.agents import Tool\n",
    "from langchain.llms import OpenAI\n",
    "from langchain.agents import initialize_agent\n",
    "from langchain.callbacks import get_openai_callback"
   ]
  },
  {
   "cell_type": "code",
   "execution_count": 51,
   "metadata": {},
   "outputs": [],
   "source": [
    "docstore = DocstoreExplorer(Wikipedia())\n",
    "tools = [\n",
    "    Tool(\n",
    "        name=\"Search\",\n",
    "        func=docstore.search,\n",
    "        description='search wikipedia'\n",
    "    ),\n",
    "    Tool(\n",
    "        name=\"Lookup\",\n",
    "        func=docstore.lookup,\n",
    "        description='lookup a term in wikipedia'\n",
    "    )\n",
    "]"
   ]
  },
  {
   "cell_type": "code",
   "execution_count": 53,
   "metadata": {},
   "outputs": [],
   "source": [
    "llm = OpenAI(temperature=0)\n",
    "docstore_agent=initialize_agent(\n",
    "    tools,\n",
    "    llm,\n",
    "    agent=\"react-docstore\",\n",
    "    verbose=True,\n",
    "    max_iterations=3\n",
    ")"
   ]
  },
  {
   "cell_type": "code",
   "execution_count": 55,
   "metadata": {},
   "outputs": [
    {
     "name": "stdout",
     "output_type": "stream",
     "text": [
      "\n",
      "\n",
      "\u001b[1m> Entering new AgentExecutor chain...\u001b[0m\n",
      "\u001b[32;1m\u001b[1;3mThought: I need to search Japan and find its capitol.\n",
      "Action: Search[Japan]\u001b[0m\n",
      "Observation: \u001b[36;1m\u001b[1;3mJapan (Japanese: 日本, Nippon or Nihon, and formally 日本国, Nihonkoku) is an island country in East Asia. It is situated in the northwest Pacific Ocean and is bordered on the west by the Sea of Japan, extending from the Sea of Okhotsk in the north toward the East China Sea, Philippine Sea, and Taiwan in the south. Japan is a part of the Ring of Fire, and spans an archipelago of 14,125 islands, with the five main islands being Hokkaido, Honshu (the \"mainland\"), Shikoku, Kyushu, and Okinawa. Tokyo is the nation's capital and largest city, followed by Yokohama, Osaka, Nagoya, Sapporo, Fukuoka, Kobe, and Kyoto.\n",
      "Japan is the eleventh most populous country in the world, as well as one of the most densely populated and urbanized. About three-fourths of the country's terrain is mountainous, concentrating its population of almost 125 million on narrow coastal plains. Japan is divided into 47 administrative prefectures and eight traditional regions. The Greater Tokyo Area is the most populous metropolitan area in the world.\n",
      "Japan has been inhabited since the Upper Paleolithic period (30,000 BC). Between the 4th and 9th centuries, the kingdoms of Japan became unified under an emperor and the imperial court based in Heian-kyō. Beginning in the 12th century, political power was held by a series of military dictators (shōgun) and feudal lords (daimyō) and enforced by a class of warrior nobility (samurai). After a century-long period of civil war, the country was reunified in 1603 under the Tokugawa shogunate, which enacted an isolationist foreign policy. In 1854, a United States fleet forced Japan to open trade to the West, which led to the end of the shogunate and the restoration of imperial power in 1868. In the Meiji period, the Empire of Japan adopted a Western-modeled constitution and pursued a program of industrialization and modernization. Amidst a rise in militarism and overseas colonization, Japan invaded China in 1937 and entered World War II as an Axis power in 1941. After suffering defeat in the Pacific War and two atomic bombings, Japan surrendered in 1945 and came under a seven-year Allied occupation, during which it adopted a new constitution.\n",
      "Under the 1947 constitution, Japan has maintained a unitary parliamentary constitutional monarchy with a bicameral legislature, the National Diet. Japan is a developed country and a great power. It is a member of numerous international organizations, including the United Nations, G20, OECD, and the Group of Seven. Its economy is the world's third-largest by nominal GDP and the fourth-largest by PPP, with its per capita income ranking at 36th highest in the world. Although Japan has renounced its right to declare war, the country maintains Self-Defense Forces that rank as one of the world's strongest militaries. Japan has the world's highest life expectancy, though it is experiencing a population decline. A global leader in the automotive, robotics and electronics industries, the country has made significant contributions to science and technology. Japan is also considered a cultural superpower as the culture of Japan is well known around the world, including its art, cuisine, film, music, and popular culture, which encompasses prominent manga, anime and video game industries.\u001b[0m\n",
      "Thought:\u001b[32;1m\u001b[1;3m The capitol of Japan is Tokyo.\n",
      "Action: Finish[Tokyo]\u001b[0m\n",
      "\n",
      "\u001b[1m> Finished chain.\u001b[0m\n"
     ]
    },
    {
     "data": {
      "text/plain": [
       "{'input': 'What is the capitol of Japan', 'output': 'Tokyo'}"
      ]
     },
     "execution_count": 55,
     "metadata": {},
     "output_type": "execute_result"
    }
   ],
   "source": [
    "docstore_agent(\"What is the capitol of Japan\")"
   ]
  },
  {
   "cell_type": "code",
   "execution_count": 18,
   "metadata": {},
   "outputs": [],
   "source": [
    "\n",
    "def count_tokens(chain, query):\n",
    "    with get_openai_callback() as cb:\n",
    "        result = chain.run(query)\n",
    "    return {\n",
    "        'result': result,\n",
    "        'token_count': cb.total_tokens\n",
    "    }"
   ]
  },
  {
   "cell_type": "code",
   "execution_count": 19,
   "metadata": {},
   "outputs": [
    {
     "name": "stdout",
     "output_type": "stream",
     "text": [
      "\n",
      "\n",
      "\u001b[1m> Entering new AgentExecutor chain...\u001b[0m\n",
      "\u001b[32;1m\u001b[1;3mThought: I need to search Icarus and find what it is known for.\n",
      "Action: Search[Icarus]\u001b[0m\n",
      "Observation: \u001b[36;1m\u001b[1;3mIn Greek mythology, Icarus (; Ancient Greek: Ἴκαρος, romanized: Íkaros, pronounced [ǐːkaros]) was the son of the master craftsman Daedalus, the architect of the labyrinth of Crete. After Theseus, king of Athens and enemy of Minos, escaped from the labyrinth, King Minos suspected that Icarus and Daedalus had revealed the labyrinth's secrets and imprisoned them—either in a large tower overlooking the ocean or the labyrinth itself, depending upon the account. Icarus and Daedalus escaped using wings Daedalus constructed from feathers, threads from blankets, clothes, and beeswax. Daedalus warned Icarus first of complacency and then of hubris, instructing him to fly neither too low nor too high, lest the sea's dampness clog his wings or the sun's heat melt them. Icarus ignored Daedalus’ instructions not to fly too close to the sun, causing the beeswax in his wings to melt. Icarus fell from the sky, plunged into the sea, and drowned. The myth gave rise to the idiom, \"fly too close to the sun.\"\n",
      "In some versions of the tale, Daedalus and Icarus escape by ship.\u001b[0m\n",
      "Thought:\u001b[32;1m\u001b[1;3m Icarus is known for flying too close to the sun, causing the beeswax in his wings to melt and him to fall from the sky and drown.\n",
      "Action: Finish[flying too close to the sun, causing the beeswax in his wings to melt and him to fall from the sky and drown]\u001b[0m\n",
      "\n",
      "\u001b[1m> Finished chain.\u001b[0m\n"
     ]
    },
    {
     "data": {
      "text/plain": [
       "{'result': 'flying too close to the sun, causing the beeswax in his wings to melt and him to fall from the sky and drown',\n",
       " 'token_count': 3329}"
      ]
     },
     "execution_count": 19,
     "metadata": {},
     "output_type": "execute_result"
    }
   ],
   "source": [
    "count_tokens(docstore_agent, \"What is Icarus known for?\")"
   ]
  },
  {
   "cell_type": "code",
   "execution_count": 42,
   "metadata": {},
   "outputs": [],
   "source": [
    "from langchain import OpenAI\n",
    "from langchain.agents import initialize_agent, Tool\n",
    "from langchain.utilities import GoogleSearchAPIWrapper\n",
    "from langchain.prompts import PromptTemplate\n",
    "from langchain.chains import LLMChain\n",
    "\n",
    "prompt = PromptTemplate(\n",
    "    input_variables=[\"query\"],\n",
    "    template=\"{query}\"\n",
    ")\n",
    "\n",
    "llm_chain = LLMChain(llm=llm, prompt=prompt)\n",
    "\n",
    "\n",
    "from langchain.agents import load_tools\n",
    "search =GoogleSearchAPIWrapper()\n",
    "tools = [\n",
    "    Tool(\n",
    "        name = \"Search\",\n",
    "        func=search.run,\n",
    "        description=\"useful for when you need to answer questions about current events\",\n",
    "        return_direct=True\n",
    "    ),\n",
    "     Tool(\n",
    "       name='Language Model',\n",
    "       func=llm_chain.run,\n",
    "       description='use this tool for general purpose queries and logic'\n",
    "    )\n",
    "    \n",
    "]"
   ]
  },
  {
   "cell_type": "code",
   "execution_count": 43,
   "metadata": {},
   "outputs": [],
   "source": [
    "agent = initialize_agent(\n",
    "    agent=\"zero-shot-react-description\",\n",
    "    tools=tools,\n",
    "    llm=llm,\n",
    "    verbose=True,\n",
    "    max_iterations=3\n",
    ")"
   ]
  },
  {
   "cell_type": "code",
   "execution_count": 49,
   "metadata": {},
   "outputs": [
    {
     "name": "stdout",
     "output_type": "stream",
     "text": [
      "\n",
      "\n",
      "\u001b[1m> Entering new AgentExecutor chain...\u001b[0m\n",
      "\u001b[32;1m\u001b[1;3m I need to find out what the capitol of Japan is\n",
      "Action: Search\n",
      "Action Input: \"capitol of Japan\"\u001b[0m\n",
      "Observation: \u001b[36;1m\u001b[1;3mExperience true relaxation in a peaceful setting appointed with sophisticated Japanese aesthetics, embracing the changing seasons. The current capital of Japan is Tokyo. In the course of history, the national capital has been in many locations other than Tokyo. Travis Japan. Spotify logo · Apple Music logo · YouTube logo · Instagram logo · Twitter logo. JUST DANCE! Listen Now. applemusic logo · spotify logo. SANTA MONICA and TOKYO – September 28, 2022 – Capitol Music Group (CMG), a division of Universal Music Group (UMG), the world leader in music-based ... Many other states and the nation's Capitol also boast Japanese blossoming cherry trees in the spring. In Japan, blossoming cherry trees, with their rapidly ... Capitol Hill Dialogue on Japan's Position in U.S.-China Relations. Aug 25, 2020. On Tuesday, August 25th, Mansfield Foundation President & CEO Frank Jannuzi ... Accommodations. Each of the 251 guestrooms and suites at The Capitol Hotel Tokyu effortlessly blends minimalist Japanese traditions with modern style. Shoji ... May 23, 2018 ... ... May 23rd, Consul General Uyama visited the California State Capitol in Sacramento to have meetings about the partnership between Japan ... Evening Reception on Capitol Hill. On July 9, 2014, USJC partnered with the United States-Japan Conference on Cultural & Educational Interchange (CULCON) to ... The Capitol Hotel Tokyu is situated very conveniently in Akasaka, the heart of downtown Tokyo. It is located with easy access to famous shopping and dining ...\u001b[0m\n",
      "\u001b[32;1m\u001b[1;3m\u001b[0m\n",
      "\n",
      "\u001b[1m> Finished chain.\u001b[0m\n"
     ]
    },
    {
     "data": {
      "text/plain": [
       "{'input': 'What is the capitol of Japan',\n",
       " 'output': \"Experience true relaxation in a peaceful setting appointed with sophisticated Japanese aesthetics, embracing the changing seasons. The current capital of Japan is Tokyo. In the course of history, the national capital has been in many locations other than Tokyo. Travis Japan. Spotify logo · Apple Music logo · YouTube logo · Instagram logo · Twitter logo. JUST DANCE! Listen Now. applemusic logo · spotify logo. SANTA MONICA and TOKYO – September 28, 2022 – Capitol Music Group (CMG), a division of Universal Music Group (UMG), the world leader in music-based\\xa0... Many other states and the nation's Capitol also boast Japanese blossoming cherry trees in the spring. In Japan, blossoming cherry trees, with their rapidly\\xa0... Capitol Hill Dialogue on Japan's Position in U.S.-China Relations. Aug 25, 2020. On Tuesday, August 25th, Mansfield Foundation President & CEO Frank Jannuzi\\xa0... Accommodations. Each of the 251 guestrooms and suites at The Capitol Hotel Tokyu effortlessly blends minimalist Japanese traditions with modern style. Shoji\\xa0... May 23, 2018 ... ... May 23rd, Consul General Uyama visited the California State Capitol in Sacramento to have meetings about the partnership between Japan\\xa0... Evening Reception on Capitol Hill. On July 9, 2014, USJC partnered with the United States-Japan Conference on Cultural & Educational Interchange (CULCON) to\\xa0... The Capitol Hotel Tokyu is situated very conveniently in Akasaka, the heart of downtown Tokyo. It is located with easy access to famous shopping and dining\\xa0...\"}"
      ]
     },
     "execution_count": 49,
     "metadata": {},
     "output_type": "execute_result"
    }
   ],
   "source": [
    "agent(\"What is the capitol of Japan\")"
   ]
  },
  {
   "cell_type": "code",
   "execution_count": 68,
   "metadata": {},
   "outputs": [],
   "source": [
    "!pip install wolframalpha"
   ]
  },
  {
   "cell_type": "code",
   "execution_count": 71,
   "metadata": {},
   "outputs": [],
   "source": [
    "from langchain.memory import ConversationBufferMemory\n"
   ]
  },
  {
   "cell_type": "code",
   "execution_count": 72,
   "metadata": {},
   "outputs": [],
   "source": [
    "llm = OpenAI(temperature=0)\n",
    "tools = load_tools(['wolfram-alpha'])\n",
    "memory = ConversationBufferMemory(memory_key=\"chat_history\")\n",
    "conversational_agent = initialize_agent(tools, llm, agent=\"conversational-react-description\", memory=memory, verbose=True)"
   ]
  },
  {
   "cell_type": "code",
   "execution_count": 73,
   "metadata": {},
   "outputs": [
    {
     "name": "stdout",
     "output_type": "stream",
     "text": [
      "\n",
      "\n",
      "\u001b[1m> Entering new AgentExecutor chain...\u001b[0m\n",
      "\u001b[32;1m\u001b[1;3m\n",
      "Thought: Do I need to use a tool? No\n",
      "AI: Hi there! I'm doing great, how about you?\u001b[0m\n",
      "\n",
      "\u001b[1m> Finished chain.\u001b[0m\n"
     ]
    },
    {
     "data": {
      "text/plain": [
       "{'input': 'hi how are you',\n",
       " 'chat_history': '',\n",
       " 'output': \"Hi there! I'm doing great, how about you?\"}"
      ]
     },
     "execution_count": 73,
     "metadata": {},
     "output_type": "execute_result"
    }
   ],
   "source": [
    "conversational_agent(\"hi how are you\")"
   ]
  },
  {
   "cell_type": "code",
   "execution_count": 74,
   "metadata": {},
   "outputs": [
    {
     "name": "stdout",
     "output_type": "stream",
     "text": [
      "\n",
      "\n",
      "\u001b[1m> Entering new AgentExecutor chain...\u001b[0m\n",
      "\u001b[32;1m\u001b[1;3m\n",
      "Thought: Do I need to use a tool? Yes\n",
      "Action: Wolfram Alpha\n",
      "Action Input: Distance from Osaka to Tokyo\u001b[0m\n",
      "Observation: \u001b[36;1m\u001b[1;3mAssumption: distance | from | Osaka, Japan\n",
      "to | Tokyo, Japan \n",
      "Answer: 251.1 miles\u001b[0m\n",
      "Thought:\u001b[32;1m\u001b[1;3m Do I need to use a tool? No\n",
      "AI: The distance from Osaka to Tokyo is 251.1 miles.\u001b[0m\n",
      "\n",
      "\u001b[1m> Finished chain.\u001b[0m\n"
     ]
    },
    {
     "data": {
      "text/plain": [
       "{'input': 'How far is it from Osaka to Tokyo',\n",
       " 'chat_history': \"Human: hi how are you\\nAI: Hi there! I'm doing great, how about you?\",\n",
       " 'output': 'The distance from Osaka to Tokyo is 251.1 miles.'}"
      ]
     },
     "execution_count": 74,
     "metadata": {},
     "output_type": "execute_result"
    }
   ],
   "source": [
    "conversational_agent(\"How far is it from Osaka to Tokyo\")"
   ]
  },
  {
   "cell_type": "code",
   "execution_count": 75,
   "metadata": {},
   "outputs": [
    {
     "name": "stdout",
     "output_type": "stream",
     "text": [
      "\n",
      "\n",
      "\u001b[1m> Entering new AgentExecutor chain...\u001b[0m\n",
      "\u001b[32;1m\u001b[1;3m\n",
      "Thought: Do I need to use a tool? Yes\n",
      "Action: Wolfram Alpha\n",
      "Action Input: What is Tokyo known for?\u001b[0m\n",
      "Observation: \u001b[36;1m\u001b[1;3mAssumption: Tokyo, Japan \n",
      "Answer: city population | 13.99 million people (country rank: 1st) (2022 estimate)\n",
      "metro area population | 37.2 million people (Tokyo metro area) (2007 estimate)\u001b[0m\n",
      "Thought:\u001b[32;1m\u001b[1;3m Do I need to use a tool? No\n",
      "AI: Tokyo is known for its large population, being the most populous city in Japan and one of the most populous cities in the world. It is also known for its vibrant culture, with many attractions, restaurants, and shopping areas.\u001b[0m\n",
      "\n",
      "\u001b[1m> Finished chain.\u001b[0m\n"
     ]
    },
    {
     "data": {
      "text/plain": [
       "{'input': 'What is the Tokio known for?',\n",
       " 'chat_history': \"Human: hi how are you\\nAI: Hi there! I'm doing great, how about you?\\nHuman: How far is it from Osaka to Tokyo\\nAI: The distance from Osaka to Tokyo is 251.1 miles.\",\n",
       " 'output': 'Tokyo is known for its large population, being the most populous city in Japan and one of the most populous cities in the world. It is also known for its vibrant culture, with many attractions, restaurants, and shopping areas.'}"
      ]
     },
     "execution_count": 75,
     "metadata": {},
     "output_type": "execute_result"
    }
   ],
   "source": [
    "conversational_agent(\"What is the Tokio known for?\")"
   ]
  },
  {
   "cell_type": "code",
   "execution_count": 76,
   "metadata": {},
   "outputs": [
    {
     "name": "stdout",
     "output_type": "stream",
     "text": [
      "\n",
      "\n",
      "\u001b[1m> Entering new AgentExecutor chain...\u001b[0m\n",
      "\u001b[32;1m\u001b[1;3m\n",
      "Thought: Do I need to use a tool? Yes\n",
      "Action: Wolfram Alpha\n",
      "Action Input: Average cost of sushi in Tokyo\u001b[0m\n",
      "Observation: \u001b[36;1m\u001b[1;3mWolfram Alpha wasn't able to answer it\u001b[0m\n",
      "Thought:\u001b[32;1m\u001b[1;3m Do I need to use a tool? No\n",
      "AI: The average cost of sushi in Tokyo's downtown area can vary depending on the type of sushi and the restaurant. Generally, you can expect to pay anywhere from ¥500 to ¥2,000 per plate.\u001b[0m\n",
      "\n",
      "\u001b[1m> Finished chain.\u001b[0m\n"
     ]
    },
    {
     "data": {
      "text/plain": [
       "{'input': 'What would be the average cost of Sushi in the downtown area?',\n",
       " 'chat_history': \"Human: hi how are you\\nAI: Hi there! I'm doing great, how about you?\\nHuman: How far is it from Osaka to Tokyo\\nAI: The distance from Osaka to Tokyo is 251.1 miles.\\nHuman: What is the Tokio known for?\\nAI: Tokyo is known for its large population, being the most populous city in Japan and one of the most populous cities in the world. It is also known for its vibrant culture, with many attractions, restaurants, and shopping areas.\",\n",
       " 'output': \"The average cost of sushi in Tokyo's downtown area can vary depending on the type of sushi and the restaurant. Generally, you can expect to pay anywhere from ¥500 to ¥2,000 per plate.\"}"
      ]
     },
     "execution_count": 76,
     "metadata": {},
     "output_type": "execute_result"
    }
   ],
   "source": [
    "conversational_agent(\"What would be the average cost of Sushi in the downtown area?\")"
   ]
  },
  {
   "cell_type": "code",
   "execution_count": 78,
   "metadata": {},
   "outputs": [],
   "source": [
    "tools.append([\"google-search\"])"
   ]
  },
  {
   "cell_type": "code",
   "execution_count": 79,
   "metadata": {},
   "outputs": [
    {
     "name": "stdout",
     "output_type": "stream",
     "text": [
      "\n",
      "\n",
      "\u001b[1m> Entering new AgentExecutor chain...\u001b[0m\n",
      "\u001b[32;1m\u001b[1;3m\n",
      "Thought: Do I need to use a tool? Yes\n",
      "Action: Wolfram Alpha\n",
      "Action Input: Weather in Tokyo\u001b[0m\n",
      "Observation: \u001b[36;1m\u001b[1;3mAssumption: weather | Tokyo \n",
      "Answer: temperature | 68 °F\n",
      "relative humidity | 73% (dew point: 59 °F)\n",
      "wind speed | 14 mph\n",
      "(56 minutes ago)\u001b[0m\n",
      "Thought:\u001b[32;1m\u001b[1;3m Do I need to use a tool? No\n",
      "AI: The current temperature in Tokyo is 68 °F, with a relative humidity of 73% (dew point: 59 °F) and a wind speed of 14 mph.\u001b[0m\n",
      "\n",
      "\u001b[1m> Finished chain.\u001b[0m\n"
     ]
    },
    {
     "data": {
      "text/plain": [
       "{'input': \"What's the weather like there now?\",\n",
       " 'chat_history': \"Human: hi how are you\\nAI: Hi there! I'm doing great, how about you?\\nHuman: How far is it from Osaka to Tokyo\\nAI: The distance from Osaka to Tokyo is 251.1 miles.\\nHuman: What is the Tokio known for?\\nAI: Tokyo is known for its large population, being the most populous city in Japan and one of the most populous cities in the world. It is also known for its vibrant culture, with many attractions, restaurants, and shopping areas.\\nHuman: What would be the average cost of Sushi in the downtown area?\\nAI: The average cost of sushi in Tokyo's downtown area can vary depending on the type of sushi and the restaurant. Generally, you can expect to pay anywhere from ¥500 to ¥2,000 per plate.\",\n",
       " 'output': 'The current temperature in Tokyo is 68 °F, with a relative humidity of 73% (dew point: 59 °F) and a wind speed of 14 mph.'}"
      ]
     },
     "execution_count": 79,
     "metadata": {},
     "output_type": "execute_result"
    }
   ],
   "source": [
    "conversational_agent(\"What's the weather like there now?\")"
   ]
  }
 ],
 "metadata": {
  "kernelspec": {
   "display_name": "Python 3",
   "language": "python",
   "name": "python3"
  },
  "language_info": {
   "codemirror_mode": {
    "name": "ipython",
    "version": 3
   },
   "file_extension": ".py",
   "mimetype": "text/x-python",
   "name": "python",
   "nbconvert_exporter": "python",
   "pygments_lexer": "ipython3",
   "version": "3.9.2"
  },
  "orig_nbformat": 4,
  "vscode": {
   "interpreter": {
    "hash": "916dbcbb3f70747c44a77c7bcd40155683ae19c65e1c03b4aa3499c5328201f1"
   }
  }
 },
 "nbformat": 4,
 "nbformat_minor": 2
}
